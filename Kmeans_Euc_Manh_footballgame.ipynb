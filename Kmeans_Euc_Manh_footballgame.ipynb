{
 "cells": [
  {
   "cell_type": "code",
   "execution_count": 463,
   "metadata": {},
   "outputs": [],
   "source": [
    "import matplotlib.pyplot as plt\n",
    "%matplotlib inline\n",
    "import numpy as np\n",
    "from sklearn.cluster import KMeans\n"
   ]
  },
  {
   "cell_type": "code",
   "execution_count": 464,
   "metadata": {},
   "outputs": [],
   "source": [
    "X = np.array([[3,5],\n",
    "             [3,4],\n",
    "             [2,8],\n",
    "             [2,3],\n",
    "             [6,2],\n",
    "             [6,4],\n",
    "             [7,3],\n",
    "             [7,4],\n",
    "             [8,5],\n",
    "             [7,6],])"
   ]
  },
  {
   "cell_type": "code",
   "execution_count": 465,
   "metadata": {},
   "outputs": [
    {
     "data": {
      "text/plain": [
       "<matplotlib.collections.PathCollection at 0x1fc5bd4bbc8>"
      ]
     },
     "execution_count": 465,
     "metadata": {},
     "output_type": "execute_result"
    },
    {
     "data": {
      "image/png": "[encoded data removed]",
      "text/plain": [
       "<Figure size 432x288 with 1 Axes>"
      ]
     },
     "metadata": {
      "needs_background": "light"
     },
     "output_type": "display_data"
    }
   ],
   "source": [
    "plt.scatter(X[:,0],X[:,1], label='True Position')"
   ]
  },
  {
   "cell_type": "code",
   "execution_count": 466,
   "metadata": {},
   "outputs": [],
   "source": [
    "# Euclidean and Manhattan distances equations\n",
    "def Euclidean_distance(point1, point2):\n",
    "    return np.sqrt(np.sum((point1 - point2) ** 2))\n",
    "def Manhattan_distance(point1, point2):\n",
    "    return np.sum(np.absolute(point1 - point2))"
   ]
  },
  {
   "cell_type": "code",
   "execution_count": 467,
   "metadata": {},
   "outputs": [],
   "source": [
    "# KMeans implementation\n",
    "def KMeans(X,start_centers,dist):\n",
    "    cluster0 = []\n",
    "    cluster1 = []\n",
    "    Manh_cluster0 = []\n",
    "    Manh_cluster1 = []\n",
    "    if(dist == Euclidean_distance):\n",
    "        for i in X:\n",
    "            if(Euclidean_distance(i,start_centers[0])> Euclidean_distance(i,start_centers[1]) ):\n",
    "                cluster1.append(i)\n",
    "            else:\n",
    "                cluster0.append(i)\n",
    "        return cluster0, cluster1\n",
    "    \n",
    "    if(dist == Manhattan_distance):\n",
    "        for i in X:\n",
    "            if(Manhattan_distance(i,start_centers[0])> Manhattan_distance(i,start_centers[1]) ):\n",
    "                Manh_cluster1.append(i)\n",
    "            else:\n",
    "                Manh_cluster0.append(i)\n",
    "        return Manh_cluster0, Manh_cluster1\n"
   ]
  },
  {
   "cell_type": "code",
   "execution_count": 468,
   "metadata": {},
   "outputs": [],
   "source": [
    "# Updating centroids\n",
    "def Update_cluster(cluster0,cluster1):\n",
    "    sum = 0\n",
    "    for i in range(len(cluster0)):\n",
    "        sum = sum + cluster0[i][0]\n",
    "    sum/len(cluster0)\n",
    "    sum1 = 0\n",
    "    for j in range(len(cluster0)):\n",
    "        sum1 = sum1 + cluster0[j][1]\n",
    "    sum1/len(cluster0)\n",
    "    new_cluster0 = np.array([sum/len(cluster0),sum1/len(cluster0)])\n",
    "    sum = 0\n",
    "    for i in range(len(cluster1)):\n",
    "        sum = sum + cluster1[i][0]\n",
    "    sum/len(cluster1)\n",
    "    sum1 = 0\n",
    "    for j in range(len(cluster1)):\n",
    "        sum1 = sum1 + cluster1[j][1]\n",
    "    sum1/len(cluster1)\n",
    "    new_cluster1 = np.array([sum/len(cluster1),sum1/len(cluster1)])\n",
    "    return new_cluster0, new_cluster1\n",
    "    "
   ]
  },
  {
   "cell_type": "code",
   "execution_count": 469,
   "metadata": {},
   "outputs": [],
   "source": [
    "# Euclidean dist with initial centroids (4,6) & (5,4)\n",
    "start_centers = np.array([[4,6],[5,4]])\n",
    "\n",
    "cluster0, cluster1 = KMeans(X,start_centers,Euclidean_distance)\n",
    "new_cluster0, new_cluster1 = Update_cluster(cluster0, cluster1)\n"
   ]
  },
  {
   "cell_type": "code",
   "execution_count": 470,
   "metadata": {},
   "outputs": [],
   "source": [
    "new_start_centers = [new_cluster0, new_cluster1]"
   ]
  },
  {
   "cell_type": "code",
   "execution_count": 471,
   "metadata": {},
   "outputs": [
    {
     "data": {
      "text/plain": [
       "[array([2.5, 6.5]), array([5.75 , 3.875])]"
      ]
     },
     "execution_count": 471,
     "metadata": {},
     "output_type": "execute_result"
    }
   ],
   "source": [
    "new_start_centers"
   ]
  },
  {
   "cell_type": "code",
   "execution_count": 472,
   "metadata": {},
   "outputs": [
    {
     "data": {
      "text/plain": [
       "([array([3, 5]), array([2, 8])],\n",
       " [array([3, 4]),\n",
       "  array([2, 3]),\n",
       "  array([6, 2]),\n",
       "  array([6, 4]),\n",
       "  array([7, 3]),\n",
       "  array([7, 4]),\n",
       "  array([8, 5]),\n",
       "  array([7, 6])])"
      ]
     },
     "execution_count": 472,
     "metadata": {},
     "output_type": "execute_result"
    }
   ],
   "source": [
    "cluster0, cluster1"
   ]
  },
  {
   "cell_type": "code",
   "execution_count": 473,
   "metadata": {},
   "outputs": [
    {
     "name": "stdout",
     "output_type": "stream",
     "text": [
      "3\n",
      "[2.5 5. ] [6.83333333 4.        ]\n"
     ]
    }
   ],
   "source": [
    "iter = 1\n",
    "not_conver = True\n",
    "while(not_conver):\n",
    "    iter = iter+1\n",
    "    start_centers = new_start_centers\n",
    "    cluster0, cluster1 = KMeans(X,new_start_centers,Euclidean_distance)\n",
    "    new_cluster0, new_cluster1 = Update_cluster(cluster0, cluster1)\n",
    "    new_start_centers = [new_cluster0, new_cluster1]\n",
    "    if ((start_centers[0] == new_start_centers[0]).all() and (start_centers[1] == new_start_centers[1]).all()):\n",
    "        not_conver = False\n",
    "        break\n",
    "print(iter)\n",
    "print(new_cluster0, new_cluster1)"
   ]
  },
  {
   "cell_type": "code",
   "execution_count": 474,
   "metadata": {},
   "outputs": [
    {
     "data": {
      "text/plain": [
       "([array([3, 5]), array([3, 4]), array([2, 8]), array([2, 3])],\n",
       " [array([6, 2]),\n",
       "  array([6, 4]),\n",
       "  array([7, 3]),\n",
       "  array([7, 4]),\n",
       "  array([8, 5]),\n",
       "  array([7, 6])])"
      ]
     },
     "execution_count": 474,
     "metadata": {},
     "output_type": "execute_result"
    }
   ],
   "source": [
    "cluster0, cluster1"
   ]
  },
  {
   "cell_type": "code",
   "execution_count": 475,
   "metadata": {},
   "outputs": [],
   "source": [
    "# Manhattan dist with initial centroids (4,6) & (5,4)\n",
    "start_centers = np.array([[4,6],[5,4]])\n",
    "Manh_cluster0, Manh_cluster1 = KMeans(X,start_centers,Manhattan_distance)\n",
    "Manh_new_cluster0, Manh_new_cluster1 = Update_cluster(Manh_cluster0, Manh_cluster1)"
   ]
  },
  {
   "cell_type": "code",
   "execution_count": 476,
   "metadata": {},
   "outputs": [],
   "source": [
    "Manh_new_start_centers = [Manh_new_cluster0, Manh_new_cluster1]"
   ]
  },
  {
   "cell_type": "code",
   "execution_count": 477,
   "metadata": {},
   "outputs": [
    {
     "data": {
      "text/plain": [
       "[array([4.        , 6.33333333]), array([5.57142857, 3.57142857])]"
      ]
     },
     "execution_count": 477,
     "metadata": {},
     "output_type": "execute_result"
    }
   ],
   "source": [
    "Manh_new_start_centers"
   ]
  },
  {
   "cell_type": "code",
   "execution_count": 478,
   "metadata": {},
   "outputs": [
    {
     "data": {
      "text/plain": [
       "([array([3, 5]), array([2, 8]), array([7, 6])],\n",
       " [array([3, 4]),\n",
       "  array([2, 3]),\n",
       "  array([6, 2]),\n",
       "  array([6, 4]),\n",
       "  array([7, 3]),\n",
       "  array([7, 4]),\n",
       "  array([8, 5])])"
      ]
     },
     "execution_count": 478,
     "metadata": {},
     "output_type": "execute_result"
    }
   ],
   "source": [
    "Manh_cluster0, Manh_cluster1"
   ]
  },
  {
   "cell_type": "code",
   "execution_count": 479,
   "metadata": {},
   "outputs": [
    {
     "name": "stdout",
     "output_type": "stream",
     "text": [
      "2\n",
      "[4.         6.33333333] [5.57142857 3.57142857]\n"
     ]
    }
   ],
   "source": [
    "iter = 1\n",
    "not_conver = True\n",
    "while(not_conver):\n",
    "    iter = iter+1\n",
    "    start_centers = Manh_new_start_centers\n",
    "    Manh_cluster0, Manh_cluster1 = KMeans(X,Manh_new_start_centers,Manhattan_distance)\n",
    "    Manh_new_cluster0, Manh_new_cluster1 = Update_cluster(Manh_cluster0, Manh_cluster1)\n",
    "    Manh_new_start_centers = [Manh_new_cluster0, Manh_new_cluster1]\n",
    "    if ((start_centers[0] == Manh_new_start_centers[0]).all() and (start_centers[1] == Manh_new_start_centers[1]).all()):\n",
    "        not_conver = False\n",
    "        break\n",
    "print(iter)\n",
    "print(Manh_new_cluster0, Manh_new_cluster1)"
   ]
  },
  {
   "cell_type": "code",
   "execution_count": 480,
   "metadata": {},
   "outputs": [
    {
     "data": {
      "text/plain": [
       "([array([3, 5]), array([2, 8]), array([7, 6])],\n",
       " [array([3, 4]),\n",
       "  array([2, 3]),\n",
       "  array([6, 2]),\n",
       "  array([6, 4]),\n",
       "  array([7, 3]),\n",
       "  array([7, 4]),\n",
       "  array([8, 5])])"
      ]
     },
     "execution_count": 480,
     "metadata": {},
     "output_type": "execute_result"
    }
   ],
   "source": [
    "Manh_cluster0, Manh_cluster1"
   ]
  },
  {
   "cell_type": "code",
   "execution_count": 481,
   "metadata": {},
   "outputs": [],
   "source": [
    "# Manhattan dist with initial centroids (3,3) & (8,3)\n",
    "start_centers = np.array([[3,3],[8,3]])\n",
    "Manh_cluster0, Manh_cluster1 = KMeans(X,start_centers,Manhattan_distance)\n",
    "Manh_new_cluster0, Manh_new_cluster1 = Update_cluster(Manh_cluster0, Manh_cluster1)"
   ]
  },
  {
   "cell_type": "code",
   "execution_count": 482,
   "metadata": {},
   "outputs": [],
   "source": [
    "Manh_new_start_centers = [Manh_new_cluster0, Manh_new_cluster1]"
   ]
  },
  {
   "cell_type": "code",
   "execution_count": 483,
   "metadata": {},
   "outputs": [
    {
     "data": {
      "text/plain": [
       "[array([2.5, 5. ]), array([6.83333333, 4.        ])]"
      ]
     },
     "execution_count": 483,
     "metadata": {},
     "output_type": "execute_result"
    }
   ],
   "source": [
    "Manh_new_start_centers"
   ]
  },
  {
   "cell_type": "code",
   "execution_count": 484,
   "metadata": {},
   "outputs": [
    {
     "data": {
      "text/plain": [
       "([array([3, 5]), array([3, 4]), array([2, 8]), array([2, 3])],\n",
       " [array([6, 2]),\n",
       "  array([6, 4]),\n",
       "  array([7, 3]),\n",
       "  array([7, 4]),\n",
       "  array([8, 5]),\n",
       "  array([7, 6])])"
      ]
     },
     "execution_count": 484,
     "metadata": {},
     "output_type": "execute_result"
    }
   ],
   "source": [
    "Manh_cluster0, Manh_cluster1"
   ]
  },
  {
   "cell_type": "code",
   "execution_count": 485,
   "metadata": {},
   "outputs": [
    {
     "name": "stdout",
     "output_type": "stream",
     "text": [
      "2\n",
      "[2.5 5. ] [6.83333333 4.        ]\n"
     ]
    }
   ],
   "source": [
    "iter = 1\n",
    "not_conver = True\n",
    "while(not_conver):\n",
    "    iter = iter+1\n",
    "    start_centers = Manh_new_start_centers\n",
    "    Manh_cluster0, Manh_cluster1 = KMeans(X,Manh_new_start_centers,Manhattan_distance)\n",
    "    Manh_new_cluster0, Manh_new_cluster1 = Update_cluster(Manh_cluster0, Manh_cluster1)\n",
    "    Manh_new_start_centers = [Manh_new_cluster0, Manh_new_cluster1]\n",
    "    if ((start_centers[0] == Manh_new_start_centers[0]).all() and (start_centers[1] == Manh_new_start_centers[1]).all()):\n",
    "        not_conver = False\n",
    "        break\n",
    "print(iter)\n",
    "print(Manh_new_cluster0, Manh_new_cluster1)"
   ]
  },
  {
   "cell_type": "code",
   "execution_count": 486,
   "metadata": {},
   "outputs": [
    {
     "data": {
      "text/plain": [
       "([array([3, 5]), array([3, 4]), array([2, 8]), array([2, 3])],\n",
       " [array([6, 2]),\n",
       "  array([6, 4]),\n",
       "  array([7, 3]),\n",
       "  array([7, 4]),\n",
       "  array([8, 5]),\n",
       "  array([7, 6])])"
      ]
     },
     "execution_count": 486,
     "metadata": {},
     "output_type": "execute_result"
    }
   ],
   "source": [
    "Manh_cluster0, Manh_cluster1"
   ]
  },
  {
   "cell_type": "code",
   "execution_count": 487,
   "metadata": {},
   "outputs": [],
   "source": [
    "# Manhattan dist with initial centroids (3,2) & (4,8)\n",
    "start_centers = np.array([[3,2],[4,8]])\n",
    "Manh_cluster0, Manh_cluster1 = KMeans(X,start_centers,Manhattan_distance)\n",
    "Manh_new_cluster0, Manh_new_cluster1 = Update_cluster(Manh_cluster0, Manh_cluster1)"
   ]
  },
  {
   "cell_type": "code",
   "execution_count": 488,
   "metadata": {},
   "outputs": [],
   "source": [
    "Manh_new_start_centers = [Manh_new_cluster0, Manh_new_cluster1]"
   ]
  },
  {
   "cell_type": "code",
   "execution_count": 489,
   "metadata": {},
   "outputs": [
    {
     "data": {
      "text/plain": [
       "[array([4.85714286, 3.57142857]), array([5.66666667, 6.33333333])]"
      ]
     },
     "execution_count": 489,
     "metadata": {},
     "output_type": "execute_result"
    }
   ],
   "source": [
    "Manh_new_start_centers"
   ]
  },
  {
   "cell_type": "code",
   "execution_count": 490,
   "metadata": {},
   "outputs": [
    {
     "data": {
      "text/plain": [
       "([array([3, 5]),\n",
       "  array([3, 4]),\n",
       "  array([2, 3]),\n",
       "  array([6, 2]),\n",
       "  array([6, 4]),\n",
       "  array([7, 3]),\n",
       "  array([7, 4])],\n",
       " [array([2, 8]), array([8, 5]), array([7, 6])])"
      ]
     },
     "execution_count": 490,
     "metadata": {},
     "output_type": "execute_result"
    }
   ],
   "source": [
    "Manh_cluster0, Manh_cluster1"
   ]
  },
  {
   "cell_type": "code",
   "execution_count": 491,
   "metadata": {},
   "outputs": [
    {
     "name": "stdout",
     "output_type": "stream",
     "text": [
      "2\n",
      "[4.85714286 3.57142857] [5.66666667 6.33333333]\n"
     ]
    }
   ],
   "source": [
    "iter = 1\n",
    "not_conver = True\n",
    "while(not_conver):\n",
    "    iter = iter+1\n",
    "    start_centers = Manh_new_start_centers\n",
    "    Manh_cluster0, Manh_cluster1 = KMeans(X,Manh_new_start_centers,Manhattan_distance)\n",
    "    Manh_new_cluster0, Manh_new_cluster1 = Update_cluster(Manh_cluster0, Manh_cluster1)\n",
    "    Manh_new_start_centers = [Manh_new_cluster0, Manh_new_cluster1]\n",
    "    if ((start_centers[0] == Manh_new_start_centers[0]).all() and (start_centers[1] == Manh_new_start_centers[1]).all()):\n",
    "        not_conver = False\n",
    "        break\n",
    "print(iter)\n",
    "print(Manh_new_cluster0, Manh_new_cluster1)"
   ]
  },
  {
   "cell_type": "code",
   "execution_count": 492,
   "metadata": {},
   "outputs": [
    {
     "data": {
      "text/plain": [
       "([array([3, 5]),\n",
       "  array([3, 4]),\n",
       "  array([2, 3]),\n",
       "  array([6, 2]),\n",
       "  array([6, 4]),\n",
       "  array([7, 3]),\n",
       "  array([7, 4])],\n",
       " [array([2, 8]), array([8, 5]), array([7, 6])])"
      ]
     },
     "execution_count": 492,
     "metadata": {},
     "output_type": "execute_result"
    }
   ],
   "source": [
    "Manh_cluster0, Manh_cluster1"
   ]
  }
 ],
 "metadata": {
  "kernelspec": {
   "display_name": "Python 3",
   "language": "python",
   "name": "python3"
  },
  "language_info": {
   "codemirror_mode": {
    "name": "ipython",
    "version": 3
   },
   "file_extension": ".py",
   "mimetype": "text/x-python",
   "name": "python",
   "nbconvert_exporter": "python",
   "pygments_lexer": "ipython3",
   "version": "3.7.6"
  }
 },
 "nbformat": 4,
 "nbformat_minor": 4
}
